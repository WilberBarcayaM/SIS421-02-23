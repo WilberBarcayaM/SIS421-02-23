{
  "nbformat": 4,
  "nbformat_minor": 0,
  "metadata": {
    "colab": {
      "provenance": [],
      "gpuType": "T4"
    },
    "kernelspec": {
      "name": "python3",
      "display_name": "Python 3"
    },
    "language_info": {
      "name": "python"
    },
    "accelerator": "GPU"
  },
  "cells": [
    {
      "cell_type": "code",
      "execution_count": null,
      "metadata": {
        "id": "tAnDj2arSrPu"
      },
      "outputs": [],
      "source": [
        "import torch\n",
        "import torchvision\n",
        "\n",
        "device = \"cuda\" if torch.cuda.is_available() else \"cpu\""
      ]
    },
    {
      "cell_type": "code",
      "source": [
        "device"
      ],
      "metadata": {
        "colab": {
          "base_uri": "https://localhost:8080/",
          "height": 36
        },
        "id": "qiCZR8CZS3D_",
        "outputId": "46eaaf67-da9d-40f4-db8d-5888eda340a9"
      },
      "execution_count": null,
      "outputs": [
        {
          "output_type": "execute_result",
          "data": {
            "text/plain": [
              "'cuda'"
            ],
            "application/vnd.google.colaboratory.intrinsic+json": {
              "type": "string"
            }
          },
          "metadata": {},
          "execution_count": 2
        }
      ]
    },
    {
      "cell_type": "code",
      "source": [
        "import torchvision\n",
        "from torchvision import transforms\n",
        "\n",
        "# Transformaciones comunes para preprocesamiento\n",
        "transform = transforms.Compose([\n",
        "    transforms.Resize((64, 64)),      # Redimensionar a 64x64 píxeles\n",
        "    transforms.ToTensor(),            # Convertir a tensor\n",
        "    transforms.Normalize((0.5, 0.5, 0.5), (0.5, 0.5, 0.5))  # Normalizar\n",
        "])"
      ],
      "metadata": {
        "id": "ka3a-h-CS4nn"
      },
      "execution_count": null,
      "outputs": []
    },
    {
      "cell_type": "code",
      "source": [
        "# Crear dataloaders para el conjunto de entrenamiento y prueba\n",
        "dataloader = {\n",
        "    'train': torch.utils.data.DataLoader(\n",
        "        torchvision.datasets.SVHN(root='./data', split='train', download=True, transform=transform),\n",
        "        batch_size=64, shuffle=True, pin_memory=True),\n",
        "    'test': torch.utils.data.DataLoader(\n",
        "        torchvision.datasets.SVHN(root='./data', split='test', download=True, transform=transform),\n",
        "        batch_size=64, shuffle=False, pin_memory=True)\n",
        "}"
      ],
      "metadata": {
        "colab": {
          "base_uri": "https://localhost:8080/"
        },
        "id": "k8IBwSd8S6Hf",
        "outputId": "2fde0d57-566b-418b-d800-ed6ea4467d80"
      },
      "execution_count": null,
      "outputs": [
        {
          "output_type": "stream",
          "name": "stdout",
          "text": [
            "Using downloaded and verified file: ./data/train_32x32.mat\n",
            "Using downloaded and verified file: ./data/test_32x32.mat\n"
          ]
        }
      ]
    },
    {
      "cell_type": "code",
      "source": [
        "def block(c_in, c_out, k=5, p=2, s=2, pk=2, ps=1):\n",
        "    return torch.nn.Sequential(\n",
        "        torch.nn.Conv2d(c_in, c_out, k, padding=p, stride=s),\n",
        "        torch.nn.ReLU(),\n",
        "        torch.nn.MaxPool2d(pk, stride=ps)\n",
        "    )\n",
        "\n",
        "\n",
        "\n",
        "class CNN(torch.nn.Module):\n",
        "  def __init__(self, n_channels=3, n_outputs=10):\n",
        "    super().__init__()\n",
        "    self.conv1 = block(n_channels, 64)\n",
        "    self.conv2 = block(64, 128)\n",
        "    self.conv3 = block(128, 256)\n",
        "    self.conv4 = block(256, 512)\n",
        "    self.fc = torch.nn.Linear(512 * 3 * 3, n_outputs)\n",
        "\n",
        "\n",
        "  def forward(self, x):\n",
        "    print(\"Dimensiones:\")\n",
        "    print(\"Entrada: \", x.shape)\n",
        "    x = self.conv1(x)\n",
        "    print(\"conv1: \", x.shape)\n",
        "    x = self.conv2(x)\n",
        "    print(\"conv2: \", x.shape)\n",
        "    x = self.conv3(x)\n",
        "    print(\"conv3: \", x.shape)\n",
        "    x = self.conv4(x)\n",
        "    print(\"conv4: \", x.shape)\n",
        "    x = x.view(x.shape[0], -1)\n",
        "    print(\"pre fc: \", x.shape)\n",
        "    x = self.fc(x)\n",
        "    print(\"Salida: \", x.shape)\n",
        "    return x"
      ],
      "metadata": {
        "id": "XWWEl7ApS6MB"
      },
      "execution_count": null,
      "outputs": []
    },
    {
      "cell_type": "code",
      "source": [
        "model = CNN()\n",
        "\n",
        "output = model(torch.randn(64, 3, 64, 64))"
      ],
      "metadata": {
        "colab": {
          "base_uri": "https://localhost:8080/"
        },
        "id": "ZviJj0VBTBGP",
        "outputId": "ae343089-121f-42d7-abc0-f0d8433ba12a"
      },
      "execution_count": null,
      "outputs": [
        {
          "output_type": "stream",
          "name": "stdout",
          "text": [
            "Dimensiones:\n",
            "Entrada:  torch.Size([64, 3, 64, 64])\n",
            "conv1:  torch.Size([64, 64, 31, 31])\n",
            "conv2:  torch.Size([64, 128, 15, 15])\n",
            "conv3:  torch.Size([64, 256, 7, 7])\n",
            "conv4:  torch.Size([64, 512, 3, 3])\n",
            "pre fc:  torch.Size([64, 4608])\n",
            "Salida:  torch.Size([64, 10])\n"
          ]
        }
      ]
    },
    {
      "cell_type": "code",
      "source": [
        "class CNN(torch.nn.Module):\n",
        "  def __init__(self, n_channels=3, n_outputs=10):\n",
        "    super().__init__()\n",
        "    self.conv1 = block(n_channels, 64)\n",
        "    self.conv2 = block(64, 128)\n",
        "    self.conv3 = block(128, 256)\n",
        "    self.conv4 = block(256, 512)\n",
        "    self.fc = torch.nn.Linear(512*3*3, n_outputs)\n",
        "\n",
        "  def forward(self, x):\n",
        "    x = self.conv1(x)\n",
        "    x = self.conv2(x)\n",
        "    x = self.conv3(x)\n",
        "    x = self.conv4(x)\n",
        "    x = x.view(x.shape[0], -1)\n",
        "    x = self.fc(x)\n",
        "    return x"
      ],
      "metadata": {
        "id": "-Plu1d6eTCrt"
      },
      "execution_count": null,
      "outputs": []
    },
    {
      "cell_type": "code",
      "source": [
        "from tqdm import tqdm\n",
        "import numpy as np\n",
        "\n",
        "def fit(model, dataloader, epochs=5):\n",
        "    model.to(device)\n",
        "    optimizer = torch.optim.Adam(model.parameters(), lr=1e-3)\n",
        "    criterion = torch.nn.CrossEntropyLoss()\n",
        "    for epoch in range(1, epochs+1):\n",
        "        model.train()\n",
        "        train_loss, train_acc = [], []\n",
        "        bar = tqdm(dataloader['train'])\n",
        "        for batch in bar:\n",
        "            X, y = batch\n",
        "            X, y = X.to(device), y.to(device)\n",
        "            optimizer.zero_grad()\n",
        "            y_hat = model(X)\n",
        "            loss = criterion(y_hat, y)\n",
        "            loss.backward()\n",
        "            optimizer.step()\n",
        "            train_loss.append(loss.item())\n",
        "            acc = (y == torch.argmax(y_hat, axis=1)).sum().item() / len(y)\n",
        "            train_acc.append(acc)\n",
        "            bar.set_description(f\"loss {np.mean(train_loss):.5f} acc {np.mean(train_acc):.5f}\")\n",
        "        bar = tqdm(dataloader['test'])\n",
        "        val_loss, val_acc = [], []\n",
        "        model.eval()\n",
        "        with torch.no_grad():\n",
        "            for batch in bar:\n",
        "                X, y = batch\n",
        "                X, y = X.to(device), y.to(device)\n",
        "                y_hat = model(X)\n",
        "                loss = criterion(y_hat, y)\n",
        "                val_loss.append(loss.item())\n",
        "                acc = (y == torch.argmax(y_hat, axis=1)).sum().item() / len(y)\n",
        "                val_acc.append(acc)\n",
        "                bar.set_description(f\"val_loss {np.mean(val_loss):.5f} val_acc {np.mean(val_acc):.5f}\")\n",
        "        print(f\"Epoch {epoch}/{epochs} loss {np.mean(train_loss):.5f} val_loss {np.mean(val_loss):.5f} acc {np.mean(train_acc):.5f} val_acc {np.mean(val_acc):.5f}\")"
      ],
      "metadata": {
        "id": "7Sv-ZYIbTETR"
      },
      "execution_count": null,
      "outputs": []
    },
    {
      "cell_type": "code",
      "source": [
        "model = CNN()\n",
        "fit(model, dataloader)"
      ],
      "metadata": {
        "colab": {
          "base_uri": "https://localhost:8080/"
        },
        "id": "q9lsgxNOTFkJ",
        "outputId": "36947c72-d22b-4f26-b981-94d6eeeecdd3"
      },
      "execution_count": null,
      "outputs": [
        {
          "output_type": "stream",
          "name": "stderr",
          "text": [
            "loss 1.42242 acc 0.50830: 100%|██████████| 1145/1145 [01:03<00:00, 18.08it/s]\n",
            "val_loss 0.67815 val_acc 0.78902: 100%|██████████| 407/407 [00:18<00:00, 22.44it/s]\n"
          ]
        },
        {
          "output_type": "stream",
          "name": "stdout",
          "text": [
            "Epoch 1/5 loss 1.42242 val_loss 0.67815 acc 0.50830 val_acc 0.78902\n"
          ]
        },
        {
          "output_type": "stream",
          "name": "stderr",
          "text": [
            "loss 0.55648 acc 0.82842: 100%|██████████| 1145/1145 [01:03<00:00, 18.11it/s]\n",
            "val_loss 0.50782 val_acc 0.84379: 100%|██████████| 407/407 [00:17<00:00, 23.22it/s]\n"
          ]
        },
        {
          "output_type": "stream",
          "name": "stdout",
          "text": [
            "Epoch 2/5 loss 0.55648 val_loss 0.50782 acc 0.82842 val_acc 0.84379\n"
          ]
        },
        {
          "output_type": "stream",
          "name": "stderr",
          "text": [
            "loss 0.46267 acc 0.85872: 100%|██████████| 1145/1145 [01:01<00:00, 18.57it/s]\n",
            "val_loss 0.47148 val_acc 0.85931: 100%|██████████| 407/407 [00:17<00:00, 22.92it/s]\n"
          ]
        },
        {
          "output_type": "stream",
          "name": "stdout",
          "text": [
            "Epoch 3/5 loss 0.46267 val_loss 0.47148 acc 0.85872 val_acc 0.85931\n"
          ]
        },
        {
          "output_type": "stream",
          "name": "stderr",
          "text": [
            "loss 0.41025 acc 0.87301: 100%|██████████| 1145/1145 [01:02<00:00, 18.34it/s]\n",
            "val_loss 0.45978 val_acc 0.86338: 100%|██████████| 407/407 [00:17<00:00, 22.90it/s]\n"
          ]
        },
        {
          "output_type": "stream",
          "name": "stdout",
          "text": [
            "Epoch 4/5 loss 0.41025 val_loss 0.45978 acc 0.87301 val_acc 0.86338\n"
          ]
        },
        {
          "output_type": "stream",
          "name": "stderr",
          "text": [
            "loss 0.37696 acc 0.88343: 100%|██████████| 1145/1145 [01:02<00:00, 18.24it/s]\n",
            "val_loss 0.45663 val_acc 0.86457: 100%|██████████| 407/407 [00:17<00:00, 22.84it/s]"
          ]
        },
        {
          "output_type": "stream",
          "name": "stdout",
          "text": [
            "Epoch 5/5 loss 0.37696 val_loss 0.45663 acc 0.88343 val_acc 0.86457\n"
          ]
        },
        {
          "output_type": "stream",
          "name": "stderr",
          "text": [
            "\n"
          ]
        }
      ]
    },
    {
      "cell_type": "code",
      "source": [],
      "metadata": {
        "id": "vfEI4QgxTVwf"
      },
      "execution_count": null,
      "outputs": []
    }
  ]
}