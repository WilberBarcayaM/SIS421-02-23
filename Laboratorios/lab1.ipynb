{
  "nbformat": 4,
  "nbformat_minor": 0,
  "metadata": {
    "colab": {
      "provenance": [],
      "gpuType": "T4"
    },
    "kernelspec": {
      "name": "python3",
      "display_name": "Python 3"
    },
    "language_info": {
      "name": "python"
    },
    "accelerator": "GPU"
  },
  "cells": [
    {
      "cell_type": "code",
      "execution_count": 52,
      "metadata": {
        "id": "iDmV7qISkglM"
      },
      "outputs": [],
      "source": [
        "import numpy as np\n",
        "import torchvision.datasets as datasets\n",
        "import torchvision.transforms as transforms"
      ]
    },
    {
      "cell_type": "code",
      "source": [
        "import torchvision.datasets as datasets\n",
        "\n",
        "emnist_train = datasets.EMNIST(root='./data', split='letters', train=True, download=True)\n",
        "emnist_test = datasets.EMNIST(root='./data', split='letters', train=False, download=True)\n"
      ],
      "metadata": {
        "id": "unY8K9QRkqV2"
      },
      "execution_count": 53,
      "outputs": []
    },
    {
      "cell_type": "code",
      "source": [
        "# Define una transformación para convertir las imágenes en tensores y normalizarlos\n",
        "#transform = transforms.Compose([transforms.ToTensor(), transforms.Normalize((0.5,), (0.5,))])\n",
        "\n",
        "# Carga el conjunto de datos EMNIST (puedes elegir la división deseada, por ejemplo, 'letters' o 'digits')\n",
        "# emnist_train = datasets.EMNIST(root='./data', split='letters', train=True, transform=transform, download=True)\n",
        "# emnist_test = datasets.EMNIST(root='./data', split='letters', train=False, transform=transform, download=True)\n",
        "\n",
        "emnist_train = datasets.EMNIST(root='./data', split='letters', train=True, download=True)\n",
        "emnist_test = datasets.EMNIST(root='./data', split='letters', train=False, download=True)\n",
        "\n",
        "# Obtiene los datos y las etiquetas del conjunto de entrenamiento\n",
        "X = emnist_train.data\n",
        "Y = emnist_train.targets\n",
        "\n",
        "\n",
        "X.shape, Y.shape"
      ],
      "metadata": {
        "colab": {
          "base_uri": "https://localhost:8080/"
        },
        "id": "alpH_7_nk1pG",
        "outputId": "85cc40f3-137f-465c-8640-314ffee8c825"
      },
      "execution_count": 66,
      "outputs": [
        {
          "output_type": "execute_result",
          "data": {
            "text/plain": [
              "(torch.Size([124800, 28, 28]), torch.Size([124800]))"
            ]
          },
          "metadata": {},
          "execution_count": 66
        }
      ]
    },
    {
      "cell_type": "code",
      "source": [
        "# Define una función para mapear los valores numéricos de las etiquetas a tipos de letra legibles\n",
        "def map_labels_to_letters(label_values):\n",
        "    letters = \"abcdefghijklmnopqrstuvwxyz\"  # Letras minúsculas del alfabeto inglés\n",
        "    return [letters[val-1] if val > 0 else 'special' for val in label_values]\n"
      ],
      "metadata": {
        "id": "UTwtMidTlNQZ"
      },
      "execution_count": 67,
      "outputs": []
    },
    {
      "cell_type": "code",
      "source": [
        "# Mapea los valores numéricos de las etiquetas a tipos de letra legibles\n",
        "Y_letters = map_labels_to_letters(Y)"
      ],
      "metadata": {
        "id": "-kd8uzGfludj"
      },
      "execution_count": 68,
      "outputs": []
    },
    {
      "cell_type": "code",
      "source": [
        "%matplotlib inline\n",
        "\n",
        "import numpy as np\n",
        "import matplotlib as mpl\n",
        "import matplotlib.pyplot as plt\n",
        "import random"
      ],
      "metadata": {
        "id": "1GvoSSu_mI-L"
      },
      "execution_count": 69,
      "outputs": []
    },
    {
      "cell_type": "code",
      "source": [
        "# Grafica algunos ejemplos\n",
        "r, c = 3, 5\n",
        "fig = plt.figure(figsize=(2*c, 2*r))\n",
        "for _r in range(r):\n",
        "    for _c in range(c):\n",
        "        plt.subplot(r, c, _r*c + _c + 1)\n",
        "        ix = random.randint(0, len(X)-1)\n",
        "        img = X[ix]\n",
        "        label = Y_letters[ix]\n",
        "        plt.imshow(img.reshape(28,28), cmap='gray')\n",
        "        plt.axis(\"off\")\n",
        "        plt.title(label)\n",
        "plt.tight_layout()\n",
        "plt.show()"
      ],
      "metadata": {
        "colab": {
          "base_uri": "https://localhost:8080/",
          "height": 608
        },
        "id": "X5_qSLXumiPe",
        "outputId": "9591fcd9-cb0f-46d1-aefa-96af6722d4a2"
      },
      "execution_count": 58,
      "outputs": [
        {
          "output_type": "display_data",
          "data": {
            "text/plain": [
              "<Figure size 1000x600 with 15 Axes>"
            ],
            "image/png": "[encoded data removed]"
          },
          "metadata": {}
        }
      ]
    },
    {
      "cell_type": "code",
      "source": [
        "#X_train, X_test, y_train, y_test = emnist_train.data, emnist_test.data, emnist_train.targets, emnist_test.targets\n",
        "\n",
        "# normalizamos los datos\n",
        "\n",
        "X_train = emnist_train.data / 255.\n",
        "X_test =  emnist_test.data / 255.\n",
        "y_train =  emnist_train.targets.astype(np.int)\n",
        "y_test =  emnist_test.targets.astype(np.int)"
      ],
      "metadata": {
        "colab": {
          "base_uri": "https://localhost:8080/",
          "height": 227
        },
        "id": "_InEXa6NmkVj",
        "outputId": "8a6ae1d6-073e-418f-bb77-d97371fa2726"
      },
      "execution_count": 76,
      "outputs": [
        {
          "output_type": "error",
          "ename": "AttributeError",
          "evalue": "ignored",
          "traceback": [
            "\u001b[0;31m---------------------------------------------------------------------------\u001b[0m",
            "\u001b[0;31mAttributeError\u001b[0m                            Traceback (most recent call last)",
            "\u001b[0;32m<ipython-input-76-fc204f0494f6>\u001b[0m in \u001b[0;36m<cell line: 7>\u001b[0;34m()\u001b[0m\n\u001b[1;32m      5\u001b[0m \u001b[0mX_train\u001b[0m \u001b[0;34m=\u001b[0m \u001b[0memnist_train\u001b[0m\u001b[0;34m.\u001b[0m\u001b[0mdata\u001b[0m \u001b[0;34m/\u001b[0m \u001b[0;36m255.\u001b[0m\u001b[0;34m\u001b[0m\u001b[0;34m\u001b[0m\u001b[0m\n\u001b[1;32m      6\u001b[0m \u001b[0mX_test\u001b[0m \u001b[0;34m=\u001b[0m  \u001b[0memnist_test\u001b[0m\u001b[0;34m.\u001b[0m\u001b[0mdata\u001b[0m \u001b[0;34m/\u001b[0m \u001b[0;36m255.\u001b[0m\u001b[0;34m\u001b[0m\u001b[0;34m\u001b[0m\u001b[0m\n\u001b[0;32m----> 7\u001b[0;31m \u001b[0my_train\u001b[0m \u001b[0;34m=\u001b[0m  \u001b[0memnist_train\u001b[0m\u001b[0;34m.\u001b[0m\u001b[0mtargets\u001b[0m\u001b[0;34m.\u001b[0m\u001b[0mastype\u001b[0m\u001b[0;34m(\u001b[0m\u001b[0mnp\u001b[0m\u001b[0;34m.\u001b[0m\u001b[0mint\u001b[0m\u001b[0;34m)\u001b[0m\u001b[0;34m\u001b[0m\u001b[0;34m\u001b[0m\u001b[0m\n\u001b[0m\u001b[1;32m      8\u001b[0m \u001b[0my_test\u001b[0m \u001b[0;34m=\u001b[0m  \u001b[0memnist_test\u001b[0m\u001b[0;34m.\u001b[0m\u001b[0mtargets\u001b[0m\u001b[0;34m.\u001b[0m\u001b[0mastype\u001b[0m\u001b[0;34m(\u001b[0m\u001b[0mnp\u001b[0m\u001b[0;34m.\u001b[0m\u001b[0mint\u001b[0m\u001b[0;34m)\u001b[0m\u001b[0;34m\u001b[0m\u001b[0;34m\u001b[0m\u001b[0m\n",
            "\u001b[0;31mAttributeError\u001b[0m: 'Tensor' object has no attribute 'astype'"
          ]
        }
      ]
    },
    {
      "cell_type": "code",
      "source": [
        "import torch"
      ],
      "metadata": {
        "id": "KyJHNB4nnHoR"
      },
      "execution_count": 60,
      "outputs": []
    },
    {
      "cell_type": "code",
      "source": [
        "# función de pérdida y derivada\n",
        "\n",
        "def softmax(x):\n",
        "    return torch.exp(x) / torch.exp(x).sum(axis=-1,keepdims=True)\n",
        "\n",
        "def cross_entropy(output, target):\n",
        "    logits = output[torch.arange(len(output)), target]\n",
        "    loss = - logits + torch.log(torch.sum(torch.exp(output), axis=-1))\n",
        "    loss = loss.mean()\n",
        "    return loss"
      ],
      "metadata": {
        "id": "49mF6uGenVND"
      },
      "execution_count": 28,
      "outputs": []
    },
    {
      "cell_type": "code",
      "source": [
        "# X_train = X.numpy()\n",
        "# y_train = Y.numpy()"
      ],
      "metadata": {
        "id": "F5Lv38bkoJOS"
      },
      "execution_count": 30,
      "outputs": []
    },
    {
      "cell_type": "code",
      "source": [
        "D_in, H, D_out = 784,100, 27\n",
        "\n",
        "# pesos del MLP (copiamos en gpu)\n",
        "w1 = torch.tensor(np.random.normal(loc=0.0,\n",
        "          scale = np.sqrt(2/(D_in+H)),\n",
        "          size = (D_in, H)), requires_grad=True, device=\"cuda\", dtype=torch.float)\n",
        "b1 = torch.zeros(H, requires_grad=True, device=\"cuda\", dtype=torch.float) #es el bias\n",
        "\n",
        "w2 = torch.tensor(np.random.normal(loc=0.0,\n",
        "          scale = np.sqrt(2/(D_out+H)),\n",
        "          size = (H, D_out)), requires_grad=True, device=\"cuda\", dtype=torch.float)\n",
        "b2 = torch.zeros(D_out, requires_grad=True, device=\"cuda\", dtype=torch.float)\n",
        "\n",
        "# convertimos datos a tensores y copiamos en gpu\n",
        "# X_t = torch.from_numpy(X_train).float().cuda()\n",
        "# Y_t = torch.from_numpy(y_train).long().cuda()\n",
        "\n",
        "X_t = (X_train).float().cuda()\n",
        "Y_t = (y_train).long().cuda()\n",
        "\n",
        "epochs = 100\n",
        "lr = 0.01\n",
        "log_each = 10\n",
        "l = []\n",
        "\n",
        "# print(\"Shape of X_t:\", X_t.shape)\n",
        "# print(\"Shape of w1:\", w1.shape)\n",
        "\n",
        "for e in range(1, epochs+1):\n",
        "\n",
        "    # Aplana el tensor X_t para que tenga la forma (n_samples, n_features)\n",
        "    X_flat = X_t.view(-1, D_in)\n",
        "\n",
        "    # forward calcula la \"y\" predicha\n",
        "    h = X_flat.mm(w1) + b1\n",
        "    h_relu = h.clamp(min=0) # relu\n",
        "    y_pred = h_relu.mm(w2) + b2\n",
        "\n",
        "    # loss\n",
        "    loss = cross_entropy(y_pred, Y_t)\n",
        "    l.append(loss.item())\n",
        "\n",
        "    # Backprop (calculamos todos los gradientes automáticamente)\n",
        "    loss.backward()\n",
        "\n",
        "    with torch.no_grad():\n",
        "        # update pesos\n",
        "        w1 -= lr * w1.grad\n",
        "        b1 -= lr * b1.grad\n",
        "        w2 -= lr * w2.grad\n",
        "        b2 -= lr * b2.grad\n",
        "\n",
        "        # ponemos a cero los gradientes para la siguiente iteración\n",
        "        # (sino acumularíamos gradientes)\n",
        "        w1.grad.zero_()\n",
        "        w2.grad.zero_()\n",
        "        b1.grad.zero_()\n",
        "        b2.grad.zero_()\n",
        "\n",
        "    if not e % log_each:\n",
        "        print(f\"Epoch {e}/{epochs} Loss {np.mean(l):.5f}\")"
      ],
      "metadata": {
        "colab": {
          "base_uri": "https://localhost:8080/"
        },
        "id": "GuyL0tgSnXfw",
        "outputId": "60c05522-f6c7-421a-beff-ca8065d65d54"
      },
      "execution_count": 65,
      "outputs": [
        {
          "output_type": "stream",
          "name": "stdout",
          "text": [
            "Epoch 10/100 Loss nan\n",
            "Epoch 20/100 Loss nan\n",
            "Epoch 30/100 Loss nan\n",
            "Epoch 40/100 Loss nan\n",
            "Epoch 50/100 Loss nan\n",
            "Epoch 60/100 Loss nan\n",
            "Epoch 70/100 Loss nan\n",
            "Epoch 80/100 Loss nan\n",
            "Epoch 90/100 Loss nan\n",
            "Epoch 100/100 Loss nan\n"
          ]
        }
      ]
    },
    {
      "cell_type": "code",
      "source": [],
      "metadata": {
        "id": "SVl1YDcEneRG"
      },
      "execution_count": null,
      "outputs": []
    }
  ]
}